{
 "cells": [
  {
   "cell_type": "markdown",
   "id": "6b75c75d-ccaa-492d-9df7-78d4cf52e036",
   "metadata": {},
   "source": [
    "# Encoding Techniques"
   ]
  },
  {
   "cell_type": "markdown",
   "id": "23f48477-df57-4630-a148-c1a8c87e5756",
   "metadata": {},
   "source": [
    "- Encoding techniques are used to transform categorical data into numerical values that machine learning algorithms can process.\n",
    "- Below are the most commonly used encoding methods:\n",
    "\n"
   ]
  },
  {
   "cell_type": "code",
   "execution_count": 1,
   "id": "b523dce7-a94a-4d10-a7e8-723b3afad591",
   "metadata": {},
   "outputs": [
    {
     "name": "stdout",
     "output_type": "stream",
     "text": [
      "   survived  pclass     sex   age  sibsp  parch     fare embarked  class  \\\n",
      "0         0       3    male  22.0      1      0   7.2500        S  Third   \n",
      "1         1       1  female  38.0      1      0  71.2833        C  First   \n",
      "2         1       3  female  26.0      0      0   7.9250        S  Third   \n",
      "3         1       1  female  35.0      1      0  53.1000        S  First   \n",
      "4         0       3    male  35.0      0      0   8.0500        S  Third   \n",
      "\n",
      "     who  adult_male deck  embark_town alive  alone  \n",
      "0    man        True  NaN  Southampton    no  False  \n",
      "1  woman       False    C    Cherbourg   yes  False  \n",
      "2  woman       False  NaN  Southampton   yes   True  \n",
      "3  woman       False    C  Southampton   yes  False  \n",
      "4    man        True  NaN  Southampton    no   True  \n"
     ]
    }
   ],
   "source": [
    "import seaborn as sns\n",
    "import pandas as pd\n",
    "\n",
    "# Load the Titanic dataset\n",
    "titanic = sns.load_dataset('titanic')\n",
    "\n",
    "# Display a preview of the dataset\n",
    "print(titanic.head())\n"
   ]
  },
  {
   "cell_type": "markdown",
   "id": "1c196064-b072-40d6-ad22-97b209266a5b",
   "metadata": {},
   "source": [
    "## 1. Label Encoding\n",
    "- Assigns a unique integer to each category.\n",
    "- **Advantages:** Simple to implement.\n",
    "- **Disadvantages:** Imposes an ordinal relationship, which may not exist."
   ]
  },
  {
   "cell_type": "code",
   "execution_count": 2,
   "id": "6594c969-335d-4c16-bfec-1c1cc8de63b7",
   "metadata": {},
   "outputs": [
    {
     "name": "stdout",
     "output_type": "stream",
     "text": [
      "      sex  sex_encoded\n",
      "0    male            1\n",
      "1  female            0\n",
      "2  female            0\n",
      "3  female            0\n",
      "4    male            1\n"
     ]
    }
   ],
   "source": [
    "from sklearn.preprocessing import LabelEncoder\n",
    "\n",
    "# Initialize the encoder\n",
    "label_encoder = LabelEncoder()\n",
    "\n",
    "# Apply label encoding to the 'sex' column\n",
    "titanic['sex_encoded'] = label_encoder.fit_transform(titanic['sex'])\n",
    "\n",
    "print(titanic[['sex', 'sex_encoded']].head())\n"
   ]
  },
  {
   "cell_type": "markdown",
   "id": "5e7f4133-4fa4-4ccd-acd7-c3e5f59454d8",
   "metadata": {},
   "source": [
    "## 2. One-Hot Encoding\n",
    "- Converts categories into binary vectors (one column for each category).\n",
    "- Advantages: Does not impose any ordinal relationship.\n",
    "- Disadvantages: May lead to a high number of columns in datasets with many categories."
   ]
  },
  {
   "cell_type": "code",
   "execution_count": 5,
   "id": "7c7436c7-81d2-4e87-a8d3-dfaecec0f803",
   "metadata": {},
   "outputs": [
    {
     "name": "stdout",
     "output_type": "stream",
     "text": [
      "   class  class_First  class_Second  class_Third\n",
      "0  Third          0.0           0.0          1.0\n",
      "1  First          1.0           0.0          0.0\n",
      "2  Third          0.0           0.0          1.0\n",
      "3  First          1.0           0.0          0.0\n",
      "4  Third          0.0           0.0          1.0\n"
     ]
    },
    {
     "name": "stderr",
     "output_type": "stream",
     "text": [
      "C:\\Users\\USER\\anaconda3\\Lib\\site-packages\\sklearn\\preprocessing\\_encoders.py:868: FutureWarning: `sparse` was renamed to `sparse_output` in version 1.2 and will be removed in 1.4. `sparse_output` is ignored unless you leave `sparse` to its default value.\n",
      "  warnings.warn(\n"
     ]
    }
   ],
   "source": [
    "# Load the Titanic dataset\n",
    "titanic = sns.load_dataset('titanic')\n",
    "\n",
    "\n",
    "from sklearn.preprocessing import OneHotEncoder\n",
    "\n",
    "# Initialize the encoder\n",
    "onehot_encoder = OneHotEncoder(sparse=False)\n",
    "\n",
    "# Apply one-hot encoding to the 'class' column\n",
    "class_encoded = onehot_encoder.fit_transform(titanic[['class']])\n",
    "\n",
    "# Convert to DataFrame\n",
    "class_encoded_df = pd.DataFrame(class_encoded, columns=onehot_encoder.get_feature_names_out(['class']))\n",
    "\n",
    "# Add the encoded columns to the dataset\n",
    "titanic = pd.concat([titanic, class_encoded_df], axis=1)\n",
    "\n",
    "print(titanic[['class'] + list(class_encoded_df.columns)].head())\n"
   ]
  },
  {
   "cell_type": "markdown",
   "id": "b2fc46b0-c811-4a2d-8682-446b04dce49b",
   "metadata": {},
   "source": [
    "## 3. Ordinal Encoding\n",
    "- Similar to label encoding but allows specifying the order of categories.\n",
    "- Advantages: Preserves order information.\n",
    "- Disadvantages: Imposes order, which may not exist naturally."
   ]
  },
  {
   "cell_type": "code",
   "execution_count": null,
   "id": "31606a74-f6b4-421b-8aa8-cb712008bb46",
   "metadata": {},
   "outputs": [],
   "source": [
    "\n",
    "titanic = sns.load_dataset('titanic')\n",
    "\n",
    "from sklearn.preprocessing import OrdinalEncoder\n",
    "\n",
    "# Initialize the encoder with a custom category order\n",
    "ordinal_encoder = OrdinalEncoder(categories=[['Southampton', 'Cherbourg', 'Queenstown']])\n",
    "\n",
    "# Apply ordinal encoding to the 'embark_town' column\n",
    "titanic['embark_town_encoded'] = ordinal_encoder.fit_transform(titanic[['embark_town']])\n",
    "\n",
    "print(titanic[['embark_town', 'embark_town_encoded']].head())\n"
   ]
  },
  {
   "cell_type": "markdown",
   "id": "35d29e4c-13f7-42f5-baee-6d3c8ecbbb5f",
   "metadata": {},
   "source": [
    "## 4. Binary Encoding\n",
    "- Converts categories into binary numbers and splits the digits into separate columns.\n",
    "- Use Case: Reduces dimensionality compared to one-hot encoding."
   ]
  },
  {
   "cell_type": "code",
   "execution_count": 8,
   "id": "ee38f202-eff1-460b-9c8a-8918300a30c2",
   "metadata": {},
   "outputs": [
    {
     "name": "stdout",
     "output_type": "stream",
     "text": [
      "   Category_0  Category_1  Category_2\n",
      "0           0           0           1\n",
      "1           0           1           0\n",
      "2           0           1           1\n",
      "3           1           0           0\n"
     ]
    }
   ],
   "source": [
    "import category_encoders as ce\n",
    "\n",
    "df = pd.DataFrame({'Category': ['A', 'B', 'C', 'D']})\n",
    "encoder = ce.BinaryEncoder(cols=['Category'])\n",
    "df = encoder.fit_transform(df)\n",
    "print(df)\n"
   ]
  },
  {
   "cell_type": "markdown",
   "id": "48b93d5f-ebff-41c0-8fe7-d70c0e1571ac",
   "metadata": {},
   "source": [
    "## 5. Frequency Encoding\n",
    "- Encodes categories based on the frequency of their occurrence.\n",
    "- Use Case: For high cardinality nominal data."
   ]
  },
  {
   "cell_type": "code",
   "execution_count": 9,
   "id": "345a778f-cb83-44e8-8efd-52e50c3eb2a6",
   "metadata": {},
   "outputs": [
    {
     "name": "stdout",
     "output_type": "stream",
     "text": [
      "     City  City_encoded\n",
      "0  London             2\n",
      "1   Paris             2\n",
      "2   Paris             2\n",
      "3   Tokyo             1\n",
      "4  London             2\n"
     ]
    }
   ],
   "source": [
    "df = pd.DataFrame({'City': ['London', 'Paris', 'Paris', 'Tokyo', 'London']})\n",
    "freq_encoding = df['City'].value_counts().to_dict()\n",
    "df['City_encoded'] = df['City'].map(freq_encoding)\n",
    "print(df)\n"
   ]
  },
  {
   "cell_type": "markdown",
   "id": "8521ce18-0b72-4326-8432-3b7ad50202cb",
   "metadata": {},
   "source": [
    "## 6. Target Encoding\n",
    "- Encodes categories based on the mean of the target variable for each category.\n",
    "- Use Case: For supervised learning with categorical predictors."
   ]
  },
  {
   "cell_type": "code",
   "execution_count": 10,
   "id": "03491231-9325-45c2-a3ec-c778a0c7e2a6",
   "metadata": {},
   "outputs": [
    {
     "name": "stdout",
     "output_type": "stream",
     "text": [
      "  Category  Target  Category_encoded\n",
      "0        A       1               1.0\n",
      "1        B       0               0.0\n",
      "2        A       1               1.0\n",
      "3        C       0               0.0\n"
     ]
    }
   ],
   "source": [
    "import pandas as pd\n",
    "\n",
    "df = pd.DataFrame({'Category': ['A', 'B', 'A', 'C'], 'Target': [1, 0, 1, 0]})\n",
    "mean_target = df.groupby('Category')['Target'].mean().to_dict()\n",
    "df['Category_encoded'] = df['Category'].map(mean_target)\n",
    "print(df)\n"
   ]
  },
  {
   "cell_type": "markdown",
   "id": "4411da5d-1668-4177-926d-12ae9465a07c",
   "metadata": {},
   "source": [
    "## 7. Hashing Encoding\n",
    "- Uses a hash function to map categories to numerical values.\n",
    "- Use Case: For high cardinality data, when reducing memory usage is crucial."
   ]
  },
  {
   "cell_type": "code",
   "execution_count": 18,
   "id": "a8d2138b-2bcd-46ac-97ec-c02bbd0329bc",
   "metadata": {},
   "outputs": [
    {
     "name": "stdout",
     "output_type": "stream",
     "text": [
      "[[ 0.  0.  0.  1.]\n",
      " [ 0.  0.  1.  0.]\n",
      " [ 0.  0.  0.  1.]\n",
      " [ 0. -1.  0.  0.]]\n"
     ]
    }
   ],
   "source": [
    "import pandas as pd\n",
    "from sklearn.feature_extraction import FeatureHasher\n",
    "df = pd.DataFrame({'City': ['London ef', 'Paris r', 'Tokyo we', 'Paris we']})\n",
    "\n",
    "# Convert each entry to a list of strings\n",
    "input_data = df['City'].apply(lambda x: [x])\n",
    "\n",
    "# Initialize the FeatureHasher\n",
    "hasher = FeatureHasher(input_type='string', n_features=4)\n",
    "\n",
    "# Apply the FeatureHasher\n",
    "hashed_features = hasher.transform(input_data)\n",
    "\n",
    "# Convert the hashed features to a dense array for better readability\n",
    "print(hashed_features.toarray())\n"
   ]
  },
  {
   "cell_type": "markdown",
   "id": "9cd34f68-d157-4207-a62e-4db8a15dcdc3",
   "metadata": {},
   "source": [
    "## 8. Leave-One-Out Encoding\n",
    "- Similar to target encoding but excludes the current row while calculating the mean to avoid data leakage.\n",
    "- Use Case: Supervised learning with categorical features."
   ]
  },
  {
   "cell_type": "code",
   "execution_count": 13,
   "id": "89184b19-1066-45b2-b1d0-c5a9afceee66",
   "metadata": {},
   "outputs": [
    {
     "name": "stdout",
     "output_type": "stream",
     "text": [
      "  Category  Target  Category_encoded\n",
      "0        A       1               1.0\n",
      "1        B       0               0.5\n",
      "2        A       1               1.0\n",
      "3        C       0               0.5\n"
     ]
    }
   ],
   "source": [
    "import category_encoders as ce\n",
    "\n",
    "df = pd.DataFrame({'Category': ['A', 'B', 'A', 'C'], 'Target': [1, 0, 1, 0]})\n",
    "encoder = ce.LeaveOneOutEncoder(cols=['Category'])\n",
    "df['Category_encoded'] = encoder.fit_transform(df['Category'], df['Target'])\n",
    "print(df)\n"
   ]
  },
  {
   "cell_type": "markdown",
   "id": "c99e7ddd-feb0-4932-826f-44a6ec85eef5",
   "metadata": {},
   "source": [
    "## 9. Count Encoding\n",
    "- Encodes categories based on their count in the dataset.\n",
    "- Use Case: High cardinality categorical data."
   ]
  },
  {
   "cell_type": "code",
   "execution_count": 15,
   "id": "6d77c26f-ac8f-4739-9ef1-67ef37b7bdeb",
   "metadata": {},
   "outputs": [
    {
     "name": "stdout",
     "output_type": "stream",
     "text": [
      "     City  City_encoded\n",
      "0  London             2\n",
      "1   Paris             2\n",
      "2   Paris             2\n",
      "3   Tokyo             1\n",
      "4  London             2\n"
     ]
    }
   ],
   "source": [
    "df = pd.DataFrame({'City': ['London', 'Paris', 'Paris', 'Tokyo', 'London']})\n",
    "count_encoding = df['City'].value_counts().to_dict()\n",
    "df['City_encoded'] = df['City'].map(count_encoding)\n",
    "print(df)\n"
   ]
  },
  {
   "cell_type": "markdown",
   "id": "36c224dc-9279-4f6d-8015-a72f9ad7b0a2",
   "metadata": {},
   "source": [
    "## 10. Weight of Evidence (WoE) Encoding\n",
    "- Encodes categories based on their relationship to the target variable using WoE.\n",
    "- Use Case: Binary classification problems in credit risk modeling."
   ]
  },
  {
   "cell_type": "code",
   "execution_count": 16,
   "id": "93938487-6fe3-4881-87fe-6ad0387f6690",
   "metadata": {},
   "outputs": [
    {
     "name": "stdout",
     "output_type": "stream",
     "text": [
      "  Category  Target  Category_encoded\n",
      "0        A       1          1.098612\n",
      "1        B       0          0.000000\n",
      "2        A       1          1.098612\n",
      "3        C       0          0.000000\n"
     ]
    }
   ],
   "source": [
    "import category_encoders as ce\n",
    "\n",
    "df = pd.DataFrame({'Category': ['A', 'B', 'A', 'C'], 'Target': [1, 0, 1, 0]})\n",
    "encoder = ce.WOEEncoder(cols=['Category'])\n",
    "df['Category_encoded'] = encoder.fit_transform(df['Category'], df['Target'])\n",
    "print(df)\n"
   ]
  },
  {
   "cell_type": "code",
   "execution_count": null,
   "id": "389b0706-af7e-437a-b17a-b5da2d9d600c",
   "metadata": {},
   "outputs": [],
   "source": []
  },
  {
   "cell_type": "code",
   "execution_count": 19,
   "id": "bfe0145f-fd6f-48fd-8990-ecf9300e8edc",
   "metadata": {},
   "outputs": [
    {
     "data": {
      "image/png": "[encoded data removed]",
      "text/plain": [
       "<IPython.core.display.Image object>"
      ]
     },
     "metadata": {},
     "output_type": "display_data"
    }
   ],
   "source": [
    "from IPython.display import Image, display\n",
    "\n",
    "# Path to your local image file\n",
    "image_path = \"D:\\images\\encoding.png\"\n",
    "\n",
    "# Display the image\n",
    "display(Image(filename=image_path))"
   ]
  },
  {
   "cell_type": "code",
   "execution_count": null,
   "id": "bfebc550-b84e-432a-a5b1-1ae7fba3ad6d",
   "metadata": {},
   "outputs": [],
   "source": []
  }
 ],
 "metadata": {
  "kernelspec": {
   "display_name": "Python 3 (ipykernel)",
   "language": "python",
   "name": "python3"
  },
  "language_info": {
   "codemirror_mode": {
    "name": "ipython",
    "version": 3
   },
   "file_extension": ".py",
   "mimetype": "text/x-python",
   "name": "python",
   "nbconvert_exporter": "python",
   "pygments_lexer": "ipython3",
   "version": "3.11.7"
  }
 },
 "nbformat": 4,
 "nbformat_minor": 5
}
