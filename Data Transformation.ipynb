{
 "cells": [
  {
   "cell_type": "markdown",
   "id": "bafe18e3-9e6e-4897-ae16-0af0dd84c2c3",
   "metadata": {},
   "source": [
    "#  Data Transformation\n"
   ]
  },
  {
   "cell_type": "markdown",
   "id": "f8ecf10f-2935-4ab9-b77a-112a6be3c1c5",
   "metadata": {},
   "source": [
    "- Data transformation is the process of converting raw data into a format that is easier to analyze and interpret.\n",
    "- It involves applying mathematical functions to adjust, scale, or normalize data to improve its quality and utility for analytics or machine learning."
   ]
  },
  {
   "cell_type": "markdown",
   "id": "af17e50e-a05c-43b4-a0c9-da811151b18f",
   "metadata": {},
   "source": [
    "### Why Data Transformation is Needed?\n",
    "- **Normalization:** To bring all data features to a common scale.\n",
    "- **Reducing Skewness:** To make data distribution closer to normal.\n",
    "- **Handling Outliers:** To reduce the impact of extreme values.\n",
    "- **Improving Model Performance:** Some models perform better with transformed data.\n",
    "- **Feature Engineering:** Creating new features or improving existing ones."
   ]
  },
  {
   "cell_type": "markdown",
   "id": "b97ccba8-6924-43bf-8609-5cfab8ce0001",
   "metadata": {},
   "source": [
    "## Common Data Transformation Techniques\n",
    "### 1. Scaling\n",
    "- Scaling adjusts the range of data values to fit within a specific interval, like [0, 1] or [-1, 1].\n",
    "\n",
    "##### Methods:\n",
    "- Min-Max Scaling: Rescales the data to a fixed range.\n",
    "- Standardization: Centers the data around the mean and scales to unit variance."
   ]
  },
  {
   "cell_type": "code",
   "execution_count": 1,
   "id": "fd8767fa-d64e-4bd2-8f84-7d1ac8a85430",
   "metadata": {},
   "outputs": [
    {
     "name": "stdout",
     "output_type": "stream",
     "text": [
      "Min-Max Scaled Data: [[0.  ]\n",
      " [0.25]\n",
      " [0.5 ]\n",
      " [0.75]\n",
      " [1.  ]]\n",
      "Standardized Data: [[-1.41421356]\n",
      " [-0.70710678]\n",
      " [ 0.        ]\n",
      " [ 0.70710678]\n",
      " [ 1.41421356]]\n"
     ]
    }
   ],
   "source": [
    "from sklearn.preprocessing import MinMaxScaler, StandardScaler\n",
    "\n",
    "# Example data\n",
    "data = [[1], [2], [3], [4], [5]]\n",
    "\n",
    "# Min-Max Scaling\n",
    "scaler = MinMaxScaler()\n",
    "scaled_data = scaler.fit_transform(data)\n",
    "print(\"Min-Max Scaled Data:\", scaled_data)\n",
    "\n",
    "# Standardization\n",
    "scaler = StandardScaler()\n",
    "standardized_data = scaler.fit_transform(data)\n",
    "print(\"Standardized Data:\", standardized_data)\n"
   ]
  },
  {
   "cell_type": "markdown",
   "id": "d9ab21ed-00fb-4cc9-9a8e-dbb22350d64c",
   "metadata": {},
   "source": [
    "### 2. Normalization\n",
    "- Normalization adjusts the data such that its values are proportionate to the range or magnitude, typically dividing by the norm."
   ]
  },
  {
   "cell_type": "code",
   "execution_count": 2,
   "id": "5aa3f6da-1b34-4ece-b952-e48acbed550c",
   "metadata": {},
   "outputs": [
    {
     "name": "stdout",
     "output_type": "stream",
     "text": [
      "Normalized Data: [[0.26726124 0.53452248 0.80178373]\n",
      " [0.45584231 0.56980288 0.68376346]\n",
      " [0.50257071 0.57436653 0.64616234]]\n"
     ]
    }
   ],
   "source": [
    "from sklearn.preprocessing import Normalizer\n",
    "\n",
    "# Example data\n",
    "data = [[1, 2, 3], [4, 5, 6], [7, 8, 9]]\n",
    "\n",
    "# Normalization\n",
    "normalizer = Normalizer()\n",
    "normalized_data = normalizer.fit_transform(data)\n",
    "print(\"Normalized Data:\", normalized_data)\n"
   ]
  },
  {
   "cell_type": "code",
   "execution_count": null,
   "id": "30aba4a9-11bc-4412-ac44-81f2b278a3ef",
   "metadata": {},
   "outputs": [],
   "source": []
  },
  {
   "cell_type": "markdown",
   "id": "6be10af7-afd6-48be-975c-54686532da86",
   "metadata": {},
   "source": [
    "### 3. Log Transformation\n",
    "- Log transformation is used to reduce skewness and compress the range of data. It is effective for handling right-skewed distributions by pulling in extreme values.\n",
    "\n",
    "### Formula:\n",
    "#### 𝑦′=log(𝑦)\n",
    "- Use Case: Data with large positive skewness.\n",
    "- Limitation: Cannot handle zero or negative values."
   ]
  },
  {
   "cell_type": "code",
   "execution_count": 3,
   "id": "ecffa704-7fb6-41a2-91c3-3068d9154fa7",
   "metadata": {},
   "outputs": [
    {
     "name": "stdout",
     "output_type": "stream",
     "text": [
      "Log Transformed Data: [0.         0.69314718 1.60943791 2.30258509 2.99573227 3.91202301\n",
      " 4.60517019]\n"
     ]
    }
   ],
   "source": [
    "import numpy as np\n",
    "\n",
    "# Example data\n",
    "data = [1, 2, 5, 10, 20, 50, 100]\n",
    "\n",
    "# Applying log transformation\n",
    "log_transformed = np.log(data)\n",
    "\n",
    "print(\"Log Transformed Data:\", log_transformed)\n"
   ]
  },
  {
   "cell_type": "code",
   "execution_count": null,
   "id": "792c9f80-5599-499b-94ce-38481cb34d24",
   "metadata": {},
   "outputs": [],
   "source": []
  },
  {
   "cell_type": "markdown",
   "id": "563a68a3-7266-4dad-ab00-551e9fd1d0c7",
   "metadata": {},
   "source": [
    "### 4. Reciprocal Transformation\n",
    "- Reciprocal transformation involves taking the reciprocal of each data point, which significantly reduces the impact of large values.\n",
    "\n",
    "### Formula:\n",
    "##### 𝑦′=1/𝑦\n",
    "\n",
    "- Use Case: Highly skewed data with large values.\n",
    "- Limitation: Cannot handle zero values."
   ]
  },
  {
   "cell_type": "code",
   "execution_count": 7,
   "id": "29b294b1-1742-4ceb-8831-dff6a90638c9",
   "metadata": {},
   "outputs": [
    {
     "name": "stdout",
     "output_type": "stream",
     "text": [
      "Reciprocal Transformed Data: [1.0, 0.5, 0.2, 0.1, 0.05, 0.02, 0.01]\n"
     ]
    }
   ],
   "source": [
    "# Applying reciprocal transformation\n",
    "\n",
    "data1 = [1, 2, 5, 10, 20, 50, 100]\n",
    "reciprocal_transformed = [1 / x for x in data1]\n",
    "\n",
    "print(\"Reciprocal Transformed Data:\", reciprocal_transformed)\n"
   ]
  },
  {
   "cell_type": "code",
   "execution_count": null,
   "id": "d3f73ec5-c341-4218-bfff-f511cce0711b",
   "metadata": {},
   "outputs": [],
   "source": []
  },
  {
   "cell_type": "markdown",
   "id": "81f9e4fb-7c7a-43c1-a530-fc1bd8e7a86b",
   "metadata": {},
   "source": [
    "## 5. Square Transformation\n",
    "- Square transformation amplifies the differences between values and is useful for left-skewed distributions.\n",
    "\n",
    "### Formula:\n",
    "#### 𝑦′=𝑦2\n",
    " \n",
    "- Use Case: Data with left skewness.\n",
    "- Limitation: Can make right-skewed distributions worse."
   ]
  },
  {
   "cell_type": "code",
   "execution_count": 8,
   "id": "c174fff1-7029-45d9-954f-3aa06340b700",
   "metadata": {},
   "outputs": [
    {
     "name": "stdout",
     "output_type": "stream",
     "text": [
      "Square Transformed Data: [1, 4, 25, 100, 400, 2500, 10000]\n"
     ]
    }
   ],
   "source": [
    "# Applying square transformation\n",
    "square_transformed = [x**2 for x in data]\n",
    "\n",
    "print(\"Square Transformed Data:\", square_transformed)\n"
   ]
  },
  {
   "cell_type": "code",
   "execution_count": null,
   "id": "049b06fb-85eb-403a-93ef-d49eeb15a526",
   "metadata": {},
   "outputs": [],
   "source": []
  },
  {
   "cell_type": "markdown",
   "id": "476f3181-543b-4ef2-99bd-ae6d30819620",
   "metadata": {},
   "source": [
    "## 6. Square Root Transformation\n",
    "- Square root transformation reduces skewness and is less aggressive than log or reciprocal transformations.\n",
    "\n",
    "### Formula:\n",
    "#### 𝑦′= √𝑦\n",
    "​\n",
    "- Use Case: Data with moderate positive skewness.\n",
    "- Limitation: Requires non-negative values."
   ]
  },
  {
   "cell_type": "code",
   "execution_count": 9,
   "id": "6f9b0871-68eb-4b2a-bbc4-3d254c219190",
   "metadata": {},
   "outputs": [
    {
     "name": "stdout",
     "output_type": "stream",
     "text": [
      "Square Root Transformed Data: [ 1.          1.41421356  2.23606798  3.16227766  4.47213595  7.07106781\n",
      " 10.        ]\n"
     ]
    }
   ],
   "source": [
    "# Applying square root transformation\n",
    "sqrt_transformed = np.sqrt(data)\n",
    "\n",
    "print(\"Square Root Transformed Data:\", sqrt_transformed)\n"
   ]
  },
  {
   "cell_type": "code",
   "execution_count": null,
   "id": "efe1ba56-de20-4f61-9540-f2974a275d6b",
   "metadata": {},
   "outputs": [],
   "source": []
  },
  {
   "cell_type": "markdown",
   "id": "4eb56eeb-34fc-4417-af87-7cb640ce77b7",
   "metadata": {},
   "source": [
    "## 7.Box-Cox Transformation\n",
    "- Box-Cox transformation is a family of power transformations. It is used to make data more normal-like and is parameterized by 𝜆.\n",
    "- Use Case: Data that needs normalization.\n",
    "- Limitation: Requires strictly positive values."
   ]
  },
  {
   "cell_type": "code",
   "execution_count": 18,
   "id": "5c82b1b4-f69d-4e8a-af30-dd76cf986660",
   "metadata": {},
   "outputs": [
    {
     "data": {
      "image/png": "[encoded data removed]",
      "text/plain": [
       "<PIL.PngImagePlugin.PngImageFile image mode=RGBA size=656x157>"
      ]
     },
     "execution_count": 18,
     "metadata": {},
     "output_type": "execute_result"
    }
   ],
   "source": [
    "# Load the image\n",
    "image = Image.open('D:\\images\\\\boxcot.png')  \n",
    "image"
   ]
  },
  {
   "cell_type": "code",
   "execution_count": 14,
   "id": "c22cde25-6c11-401b-a6e6-4ce9211935d4",
   "metadata": {},
   "outputs": [
    {
     "name": "stdout",
     "output_type": "stream",
     "text": [
      "Box-Cox Transformed Data: [0.         0.69314718 1.60943791 2.30258509 2.99573227 3.91202299\n",
      " 4.60517017]\n",
      "Optimal Lambda: -1.3746684922222801e-09\n"
     ]
    }
   ],
   "source": [
    "from scipy.stats import boxcox\n",
    "\n",
    "# Applying Box-Cox transformation\n",
    "boxcox_transformed, lambda_optimal = boxcox(data)\n",
    "\n",
    "print(\"Box-Cox Transformed Data:\", boxcox_transformed)\n",
    "print(\"Optimal Lambda:\", lambda_optimal)\n"
   ]
  },
  {
   "cell_type": "code",
   "execution_count": null,
   "id": "6e5a5716-8286-46fa-bd75-cab6f2dc0fbe",
   "metadata": {},
   "outputs": [],
   "source": []
  },
  {
   "cell_type": "code",
   "execution_count": 17,
   "id": "45e289b0-8379-469b-9673-32bb0b898dfa",
   "metadata": {},
   "outputs": [
    {
     "data": {
      "image/png": "[encoded data removed]",
      "text/plain": [
       "<PIL.PngImagePlugin.PngImageFile image mode=RGBA size=992x338>"
      ]
     },
     "execution_count": 17,
     "metadata": {},
     "output_type": "execute_result"
    }
   ],
   "source": [
    "from PIL import Image\n",
    "import matplotlib.pyplot as plt\n",
    "\n",
    "# Load the image\n",
    "image = Image.open('D:\\images\\\\transformation.png')  \n",
    "image"
   ]
  },
  {
   "cell_type": "code",
   "execution_count": null,
   "id": "35ffccf3-3917-49c0-9d42-d07717fc7f85",
   "metadata": {},
   "outputs": [],
   "source": []
  }
 ],
 "metadata": {
  "kernelspec": {
   "display_name": "Python 3 (ipykernel)",
   "language": "python",
   "name": "python3"
  },
  "language_info": {
   "codemirror_mode": {
    "name": "ipython",
    "version": 3
   },
   "file_extension": ".py",
   "mimetype": "text/x-python",
   "name": "python",
   "nbconvert_exporter": "python",
   "pygments_lexer": "ipython3",
   "version": "3.11.7"
  }
 },
 "nbformat": 4,
 "nbformat_minor": 5
}
