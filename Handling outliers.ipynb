{
 "cells": [
  {
   "cell_type": "markdown",
   "id": "30223b56-8ac1-4c05-a0e9-664148206865",
   "metadata": {},
   "source": [
    "# Handling outliers\n",
    "- Handling outliers is an essential step in data preprocessing, as outliers can negatively affect the performance of machine learning models by introducing noise or skewing results.\n",
    "- Below are several techniques for handling outliers effectively:"
   ]
  },
  {
   "cell_type": "markdown",
   "id": "c2784203-ba00-428f-9b13-15a20971ae57",
   "metadata": {},
   "source": [
    "## 1. Identifying Outliers\n",
    "- Before handling outliers, it's crucial to identify them using statistical methods or visualization tools:\n",
    "\n",
    "### Statistical Methods:\n",
    "#### Z-Score: \n",
    "- Measures how far a data point is from the mean, with values above a threshold (e.g., 3 or -3) indicating outliers.\n",
    "#### IQR (Interquartile Range): \n",
    "- Identifies outliers by considering data outside 1.5 times the IQR above or below the first and third quartiles.\n",
    "\n",
    "#### Visualization:\n",
    "- Box Plots and Scatter Plots help visualize outliers in datasets.\n"
   ]
  },
  {
   "cell_type": "code",
   "execution_count": 10,
   "id": "92924496-1414-4c73-b926-0899b713982a",
   "metadata": {},
   "outputs": [],
   "source": [
    "import seaborn as sns\n",
    "import pandas as pd\n",
    "import numpy as np\n",
    "import matplotlib.pyplot as plt\n",
    "from scipy.stats import zscore  "
   ]
  },
  {
   "cell_type": "code",
   "execution_count": 2,
   "id": "f1033a53-3756-4161-98a9-a63db0576d85",
   "metadata": {},
   "outputs": [
    {
     "name": "stdout",
     "output_type": "stream",
     "text": [
      "   survived  pclass     sex   age  sibsp  parch     fare embarked  class  \\\n",
      "0         0       3    male  22.0      1      0   7.2500        S  Third   \n",
      "1         1       1  female  38.0      1      0  71.2833        C  First   \n",
      "2         1       3  female  26.0      0      0   7.9250        S  Third   \n",
      "3         1       1  female  35.0      1      0  53.1000        S  First   \n",
      "4         0       3    male  35.0      0      0   8.0500        S  Third   \n",
      "\n",
      "     who  adult_male deck  embark_town alive  alone  \n",
      "0    man        True  NaN  Southampton    no  False  \n",
      "1  woman       False    C    Cherbourg   yes  False  \n",
      "2  woman       False  NaN  Southampton   yes   True  \n",
      "3  woman       False    C  Southampton   yes  False  \n",
      "4    man        True  NaN  Southampton    no   True  \n"
     ]
    }
   ],
   "source": [
    "# Load Titanic dataset\n",
    "df = sns.load_dataset('titanic')\n",
    "print(df.head())\n"
   ]
  },
  {
   "cell_type": "code",
   "execution_count": 11,
   "id": "2d33f267-989e-4801-9bac-1aa86e57073f",
   "metadata": {},
   "outputs": [
    {
     "name": "stdout",
     "output_type": "stream",
     "text": [
      "Empty DataFrame\n",
      "Columns: [survived, pclass, sex, age, sibsp, parch, fare, embarked, class, who, adult_male, deck, embark_town, alive, alone, age_winsorized, age_scaled, z_score]\n",
      "Index: []\n"
     ]
    }
   ],
   "source": [
    "# Identifying Outliers\n",
    "# using z test \n",
    "# Calculate z-score for age\n",
    "df['z_score'] = np.abs(zscore(df['age']))\n",
    "\n",
    "# Define threshold for outliers\n",
    "threshold = 3\n",
    "outliers_z_score = df[df['z_score'] > threshold]\n",
    "print(outliers_z_score)\n"
   ]
  },
  {
   "cell_type": "code",
   "execution_count": 4,
   "id": "afe8fd71-e72b-48f1-ad43-446233673650",
   "metadata": {},
   "outputs": [
    {
     "name": "stdout",
     "output_type": "stream",
     "text": [
      "     survived  pclass   sex   age  sibsp  parch     fare embarked   class  \\\n",
      "33          0       2  male  66.0      0      0  10.5000        S  Second   \n",
      "54          0       1  male  65.0      0      1  61.9792        C   First   \n",
      "96          0       1  male  71.0      0      0  34.6542        C   First   \n",
      "116         0       3  male  70.5      0      0   7.7500        Q   Third   \n",
      "280         0       3  male  65.0      0      0   7.7500        Q   Third   \n",
      "456         0       1  male  65.0      0      0  26.5500        S   First   \n",
      "493         0       1  male  71.0      0      0  49.5042        C   First   \n",
      "630         1       1  male  80.0      0      0  30.0000        S   First   \n",
      "672         0       2  male  70.0      0      0  10.5000        S  Second   \n",
      "745         0       1  male  70.0      1      1  71.0000        S   First   \n",
      "851         0       3  male  74.0      0      0   7.7750        S   Third   \n",
      "\n",
      "     who  adult_male deck  embark_town alive  alone  \n",
      "33   man        True  NaN  Southampton    no   True  \n",
      "54   man        True    B    Cherbourg    no  False  \n",
      "96   man        True    A    Cherbourg    no   True  \n",
      "116  man        True  NaN   Queenstown    no   True  \n",
      "280  man        True  NaN   Queenstown    no   True  \n",
      "456  man        True    E  Southampton    no   True  \n",
      "493  man        True  NaN    Cherbourg    no   True  \n",
      "630  man        True    A  Southampton   yes   True  \n",
      "672  man        True  NaN  Southampton    no   True  \n",
      "745  man        True    B  Southampton    no  False  \n",
      "851  man        True  NaN  Southampton    no   True  \n"
     ]
    }
   ],
   "source": [
    "# using IQR\n",
    "# Compute IQR for age\n",
    "Q1 = df['age'].quantile(0.25)\n",
    "Q3 = df['age'].quantile(0.75)\n",
    "IQR = Q3 - Q1\n",
    "\n",
    "# Define outliers\n",
    "outliers_iqr = df[(df['age'] < (Q1 - 1.5 * IQR)) | (df['age'] > (Q3 + 1.5 * IQR))]\n",
    "print(outliers_iqr)\n"
   ]
  },
  {
   "cell_type": "code",
   "execution_count": 5,
   "id": "3a820699-ba8b-4a86-adb1-f50d4a6f8e07",
   "metadata": {},
   "outputs": [
    {
     "data": {
      "image/png": "[encoded data removed]",
      "text/plain": [
       "<Figure size 640x480 with 1 Axes>"
      ]
     },
     "metadata": {},
     "output_type": "display_data"
    }
   ],
   "source": [
    "# Visualization of Outliers\n",
    "sns.boxplot(data=df, x='age')\n",
    "plt.title('Age Distribution with Outliers')\n",
    "plt.show()\n"
   ]
  },
  {
   "cell_type": "code",
   "execution_count": 6,
   "id": "2f5a3f97-10f5-4870-84e4-560ee6abad2f",
   "metadata": {},
   "outputs": [
    {
     "name": "stderr",
     "output_type": "stream",
     "text": [
      "C:\\Users\\USER\\anaconda3\\Lib\\site-packages\\numpy\\core\\fromnumeric.py:57: SettingWithCopyWarning: \n",
      "A value is trying to be set on a copy of a slice from a DataFrame\n",
      "\n",
      "See the caveats in the documentation: https://pandas.pydata.org/pandas-docs/stable/user_guide/indexing.html#returning-a-view-versus-a-copy\n",
      "  return bound(*args, **kwds)\n"
     ]
    }
   ],
   "source": [
    "#  Handling Outliers\n",
    "# a. Winsorization\n",
    "def winsorize(data, lower_percentile=5, upper_percentile=95):\n",
    "    lower_limit = np.percentile(data, lower_percentile)\n",
    "    upper_limit = np.percentile(data, upper_percentile)\n",
    "    data_winsorized = np.clip(data, lower_limit, upper_limit)\n",
    "    return data_winsorized\n",
    "\n",
    "df['age_winsorized'] = winsorize(df['age'])\n"
   ]
  },
  {
   "cell_type": "code",
   "execution_count": 8,
   "id": "16938940-424a-4638-93f2-3aea40129b64",
   "metadata": {},
   "outputs": [
    {
     "data": {
      "image/png": "[encoded data removed]",
      "text/plain": [
       "<Figure size 640x480 with 1 Axes>"
      ]
     },
     "metadata": {},
     "output_type": "display_data"
    }
   ],
   "source": [
    "sns.boxplot(data=df, x='age_winsorized')\n",
    "plt.title('Winsorized Age Distribution')\n",
    "plt.show()\n"
   ]
  },
  {
   "cell_type": "code",
   "execution_count": 7,
   "id": "52a8bcb6-8327-4088-945c-a81a2e0e4725",
   "metadata": {},
   "outputs": [],
   "source": [
    "# b. Min-Max Scaling\n",
    "from sklearn.preprocessing import MinMaxScaler\n",
    "\n",
    "scaler = MinMaxScaler()\n",
    "df['age_scaled'] = scaler.fit_transform(df[['age']])\n"
   ]
  },
  {
   "cell_type": "code",
   "execution_count": 9,
   "id": "e8f8919f-4d38-43aa-9e47-6b759578e09a",
   "metadata": {},
   "outputs": [
    {
     "data": {
      "image/png": "[encoded data removed]",
      "text/plain": [
       "<Figure size 640x480 with 1 Axes>"
      ]
     },
     "metadata": {},
     "output_type": "display_data"
    }
   ],
   "source": [
    "sns.boxplot(data=df, x='age_scaled')\n",
    "plt.title('Scaled Age Distribution')\n",
    "plt.show()\n"
   ]
  },
  {
   "cell_type": "markdown",
   "id": "e4e57c6d-0786-4781-ae0a-504d61111e89",
   "metadata": {},
   "source": [
    "# Techniques for Handling Outliers\n",
    "\n",
    "##  Data Transformation"
   ]
  },
  {
   "cell_type": "markdown",
   "id": "492b3293-e21f-42ed-9b34-e9d3056d193a",
   "metadata": {},
   "source": [
    "#### Data Smoothing:\n",
    "- It is a technique used in data preprocessing to reduce noise and fluctuations, allowing significant patterns or trends to emerge more clearly.\n",
    "- Here's a detailed overview of its purpose and the common techniques:\n",
    "\n",
    "#### Purpose of Data Smoothing\n",
    "- Noise Reduction: Eliminates minor variations or inconsistencies in the dataset that might obscure important trends.\n",
    "- Trend Analysis: Makes underlying trends in the data more visible by reducing volatility.\n",
    "- Improved Model Performance: Helps predictive models by providing cleaner data, reducing the impact of outliers or noise on the model's learning process."
   ]
  },
  {
   "cell_type": "markdown",
   "id": "72f0efc3-a689-4670-9846-424ba0c1e2f5",
   "metadata": {},
   "source": [
    "### Techniques for Data Smoothing\n",
    "#### 1. Moving Average\n",
    "- Description: Averages data points over a fixed-size sliding window.\n",
    "- How it Works: Each value is replaced with the mean of neighboring points within the window.\n",
    "##### Application:\n",
    "- Time-series data (e.g., stock prices, temperature data).\n",
    "- Reducing short-term fluctuations."
   ]
  },
  {
   "cell_type": "code",
   "execution_count": 13,
   "id": "f0bf1782-95af-4914-bbdb-99e85c3eef92",
   "metadata": {},
   "outputs": [
    {
     "name": "stdout",
     "output_type": "stream",
     "text": [
      "   Value  Moving Average\n",
      "0      1             NaN\n",
      "1      2             NaN\n",
      "2      3             2.0\n",
      "3      4             3.0\n",
      "4      5             4.0\n",
      "5      6             5.0\n",
      "6      7             6.0\n",
      "7      8             7.0\n",
      "8      9             8.0\n"
     ]
    }
   ],
   "source": [
    "import pandas as pd\n",
    "\n",
    "data = [1, 2, 3, 4, 5, 6, 7, 8, 9]\n",
    "df = pd.DataFrame(data, columns=['Value'])\n",
    "df['Moving Average'] = df['Value'].rolling(window=3).mean()\n",
    "\n",
    "print(df)\n"
   ]
  },
  {
   "cell_type": "markdown",
   "id": "04cab8ac-e5fb-49f1-97b2-fa33b2dbf562",
   "metadata": {},
   "source": [
    "### 2. Exponential Smoothing\n",
    "#### Description: \n",
    "- Gives more weight to recent observations while smoothing the data.\n",
    "#### How it Works:\n",
    "- A smoothing factor (𝛼) determines how much weight is given to past data.\n",
    "#### Application:\n",
    "- Forecasting and time-series analysis."
   ]
  },
  {
   "cell_type": "code",
   "execution_count": 14,
   "id": "6009960f-69b9-4810-86eb-95dbbcf7d099",
   "metadata": {},
   "outputs": [
    {
     "name": "stdout",
     "output_type": "stream",
     "text": [
      "   Value  Moving Average  Exponential Smoothing\n",
      "0      1             NaN               1.000000\n",
      "1      2             NaN               1.588235\n",
      "2      3             2.0               2.232877\n",
      "3      4             3.0               2.930517\n",
      "4      5             4.0               3.676788\n",
      "5      6             5.0               4.466682\n",
      "6      7             6.0               5.294883\n",
      "7      8             7.0               6.156064\n",
      "8      9             8.0               7.045121\n"
     ]
    }
   ],
   "source": [
    "df['Exponential Smoothing'] = df['Value'].ewm(alpha=0.3).mean()\n",
    "print(df)\n"
   ]
  },
  {
   "cell_type": "markdown",
   "id": "0fb3fd0f-7366-4f4a-a18b-43d11a828a1e",
   "metadata": {},
   "source": [
    "### 3. Gaussian Smoothing\n",
    "#### Description: \n",
    "- Applies a Gaussian (normal distribution) kernel to the data.\n",
    "#### How it Works: \n",
    "- Weights data points using a Gaussian curve, with more emphasis on closer points.\n",
    "#### Application:\n",
    "- Image processing (e.g., blurring).\n",
    "- Signal processing.\n"
   ]
  },
  {
   "cell_type": "code",
   "execution_count": 15,
   "id": "9171ff30-0e25-431a-b1bc-9d7a84eb2645",
   "metadata": {},
   "outputs": [
    {
     "name": "stdout",
     "output_type": "stream",
     "text": [
      "[1 2 3 4 5 5 6 7 8]\n"
     ]
    }
   ],
   "source": [
    "import numpy as np\n",
    "from scipy.ndimage import gaussian_filter\n",
    "\n",
    "data = [1, 2, 3, 4, 5, 6, 7, 8, 9]\n",
    "smoothed_data = gaussian_filter(data, sigma=1)\n",
    "\n",
    "print(smoothed_data)\n"
   ]
  },
  {
   "cell_type": "markdown",
   "id": "6272f4c8-27ba-4b64-a5f1-483340dfd03e",
   "metadata": {},
   "source": [
    "### 4. Median Filtering\n",
    "#### Description: \n",
    "- Replaces each data point with the median of neighboring points within a window.\n",
    "#### How it Works: \n",
    "- Non-linear technique that reduces noise without blurring edges.\n",
    "#### Application:\n",
    "- Removing outliers.\n",
    "- Data with abrupt changes (e.g., image edge detection)."
   ]
  },
  {
   "cell_type": "code",
   "execution_count": 16,
   "id": "afe33853-814a-4a0b-a008-9f6249fa6150",
   "metadata": {},
   "outputs": [
    {
     "name": "stdout",
     "output_type": "stream",
     "text": [
      "[1 2 4 5 5 6 7 8 9]\n"
     ]
    }
   ],
   "source": [
    "from scipy.ndimage import median_filter\n",
    "\n",
    "data = [1, 2, 100, 4, 5, 6, 7, 8, 9]\n",
    "smoothed_data = median_filter(data, size=3)\n",
    "\n",
    "print(smoothed_data)\n"
   ]
  },
  {
   "cell_type": "code",
   "execution_count": null,
   "id": "aff66253-3aaf-4011-bc80-751b729c0cbd",
   "metadata": {},
   "outputs": [],
   "source": []
  },
  {
   "cell_type": "markdown",
   "id": "19564621-e6b6-44ea-b954-5e337eb73999",
   "metadata": {},
   "source": [
    "## Techniques for Attribute Construction\n",
    "### 1. Polynomial Features\n",
    "#### Description: \n",
    "- Involves generating higher-order features by raising existing features to a power or creating interaction terms.\n",
    "#### Use Case: \n",
    "- Captures non-linear relationships between features and the target variable."
   ]
  },
  {
   "cell_type": "code",
   "execution_count": 17,
   "id": "ce73a551-eaa9-432c-9133-72cea9cea656",
   "metadata": {},
   "outputs": [
    {
     "name": "stdout",
     "output_type": "stream",
     "text": [
      "   Feature1  Feature2  Feature1^2  Feature1 Feature2  Feature2^2\n",
      "0       1.0       4.0         1.0                4.0        16.0\n",
      "1       2.0       5.0         4.0               10.0        25.0\n",
      "2       3.0       6.0         9.0               18.0        36.0\n"
     ]
    }
   ],
   "source": [
    "from sklearn.preprocessing import PolynomialFeatures\n",
    "import pandas as pd\n",
    "\n",
    "# Example data\n",
    "data = {'Feature1': [1, 2, 3], 'Feature2': [4, 5, 6]}\n",
    "df = pd.DataFrame(data)\n",
    "\n",
    "# Generate polynomial features\n",
    "poly = PolynomialFeatures(degree=2, include_bias=False)\n",
    "poly_features = poly.fit_transform(df)\n",
    "\n",
    "# Convert to DataFrame for inspection\n",
    "poly_df = pd.DataFrame(poly_features, columns=poly.get_feature_names_out())\n",
    "print(poly_df)\n"
   ]
  },
  {
   "cell_type": "markdown",
   "id": "001a2d23-a540-4a95-a4b3-a3f6e9bc6b93",
   "metadata": {},
   "source": [
    "### 2. Interaction Features\n",
    "#### Description: \n",
    "- Interaction terms are features created by multiplying two or more existing features. These terms capture the combined effect of features.\n",
    "#### Use Case: \n",
    "- Useful when the relationship between features and the target is not additive."
   ]
  },
  {
   "cell_type": "code",
   "execution_count": 18,
   "id": "3f604e79-f668-463a-96b5-f6ca8b20c681",
   "metadata": {},
   "outputs": [
    {
     "name": "stdout",
     "output_type": "stream",
     "text": [
      "   Feature1  Feature2  Feature1 Feature2\n",
      "0       1.0       4.0                4.0\n",
      "1       2.0       5.0               10.0\n",
      "2       3.0       6.0               18.0\n"
     ]
    }
   ],
   "source": [
    "from sklearn.preprocessing import PolynomialFeatures\n",
    "import pandas as pd\n",
    "\n",
    "# Example data\n",
    "data = {'Feature1': [1, 2, 3], 'Feature2': [4, 5, 6]}\n",
    "df = pd.DataFrame(data)\n",
    "\n",
    "# Generate interaction features only\n",
    "poly = PolynomialFeatures(degree=2, interaction_only=True, include_bias=False)\n",
    "interaction_features = poly.fit_transform(df)\n",
    "\n",
    "# Convert to DataFrame for inspection\n",
    "interaction_df = pd.DataFrame(interaction_features, columns=poly.get_feature_names_out())\n",
    "print(interaction_df)\n"
   ]
  },
  {
   "cell_type": "code",
   "execution_count": null,
   "id": "41f387e9-a844-4843-8ab8-4d2de8ad4c73",
   "metadata": {},
   "outputs": [],
   "source": []
  },
  {
   "cell_type": "markdown",
   "id": "cfa478c5-ef50-4953-8a45-39251d6222d9",
   "metadata": {},
   "source": [
    "# Data Aggregation\n",
    "### Purpose:\n",
    "- Data aggregation involves summarizing or condensing large datasets into smaller, meaningful representations by grouping and applying mathematical operations like summation, averaging, or counting.\n",
    "- This process reduces data dimensionality, helps uncover patterns, and facilitates analysis.\n",
    "\n"
   ]
  },
  {
   "cell_type": "markdown",
   "id": "8b886b11-706e-4247-9ce0-458751c9d7f5",
   "metadata": {},
   "source": [
    "## Techniques for Data Aggregation\n",
    "### 1. Summation\n",
    "#### Description: \n",
    "- Calculates the total sum of values in each group.\n",
    "#### Use Case: \n",
    "- Common in financial, sales, or inventory data to find total revenue, sales, or stock levels."
   ]
  },
  {
   "cell_type": "code",
   "execution_count": 19,
   "id": "ac70f8a7-d8db-44be-a3d0-d3b37bfc8ca2",
   "metadata": {},
   "outputs": [
    {
     "name": "stdout",
     "output_type": "stream",
     "text": [
      "  Category  Value\n",
      "0        A     25\n",
      "1        B     45\n"
     ]
    }
   ],
   "source": [
    "import pandas as pd\n",
    "\n",
    "# Example data\n",
    "data = {'Category': ['A', 'B', 'A', 'B'], 'Value': [10, 20, 15, 25]}\n",
    "df = pd.DataFrame(data)\n",
    "\n",
    "# Aggregation using sum\n",
    "result = df.groupby('Category')['Value'].sum().reset_index()\n",
    "print(result)\n"
   ]
  },
  {
   "cell_type": "markdown",
   "id": "c076f55c-e35a-4f1a-b742-08cdb812852c",
   "metadata": {},
   "source": [
    "### 2. Averaging\n",
    "- Description: Computes the mean of values within each group.\n",
    "- Use Case: Used to find average sales, temperature, or customer ratings"
   ]
  },
  {
   "cell_type": "code",
   "execution_count": 20,
   "id": "29951f9e-084b-4887-9c5d-0ff55825ea04",
   "metadata": {},
   "outputs": [
    {
     "name": "stdout",
     "output_type": "stream",
     "text": [
      "  Category  Value\n",
      "0        A   12.5\n",
      "1        B   22.5\n"
     ]
    }
   ],
   "source": [
    "result = df.groupby('Category')['Value'].mean().reset_index()\n",
    "print(result)\n"
   ]
  },
  {
   "cell_type": "markdown",
   "id": "6536d35d-50da-482f-96ff-a953c466fe5e",
   "metadata": {},
   "source": [
    "### 3. Maximum/Minimum\n",
    "- Description: Finds the maximum or minimum value within each group.\n",
    "- Use Case: Useful in monitoring systems (e.g., maximum CPU usage) or time series data (e.g., daily high/low temperatures)."
   ]
  },
  {
   "cell_type": "code",
   "execution_count": 21,
   "id": "4f086041-46ef-4e75-b322-81d81b4594eb",
   "metadata": {},
   "outputs": [
    {
     "name": "stdout",
     "output_type": "stream",
     "text": [
      "  Category  Value\n",
      "0        A     15\n",
      "1        B     25\n",
      "  Category  Value\n",
      "0        A     10\n",
      "1        B     20\n"
     ]
    }
   ],
   "source": [
    "result_max = df.groupby('Category')['Value'].max().reset_index()\n",
    "result_min = df.groupby('Category')['Value'].min().reset_index()\n",
    "print(result_max)\n",
    "print(result_min)\n"
   ]
  },
  {
   "cell_type": "markdown",
   "id": "680b1e17-d273-497b-a17f-88d1b04fea6f",
   "metadata": {},
   "source": [
    "### 4. Frequency Counts\n",
    "- Description: Counts the number of occurrences for each category.\n",
    "- Use Case: Common in categorical data analysis to find the popularity of items or activities"
   ]
  },
  {
   "cell_type": "code",
   "execution_count": 24,
   "id": "080cf8ec-e65a-40ec-addd-8aada627ec5c",
   "metadata": {},
   "outputs": [
    {
     "name": "stdout",
     "output_type": "stream",
     "text": [
      "  Category  Frequency\n",
      "0        A          2\n",
      "1        B          2\n"
     ]
    }
   ],
   "source": [
    "result = df['Category'].value_counts().reset_index()\n",
    "result.columns = ['Category', 'Frequency']\n",
    "print(result)\n"
   ]
  },
  {
   "cell_type": "markdown",
   "id": "7021f34d-4d1b-4d7c-acb4-aa8e47d7372e",
   "metadata": {},
   "source": [
    "# Data Discretization\n",
    "## Purpose:\n",
    "- Data discretization transforms continuous data into discrete categories or bins.\n",
    "- This is useful for algorithms that perform better with categorical data, reduces data complexity, and improves interpretability."
   ]
  },
  {
   "cell_type": "markdown",
   "id": "0ca05f81-0c94-4b1d-8647-303ca4432483",
   "metadata": {},
   "source": [
    "## Techniques for Data Discretization\n",
    "### 1. Equal Width Binning\n",
    "- Description: Divides the range of the continuous variable into 𝑘 intervals of equal size.\n",
    "- Use Case: Useful when the data distribution is uniform."
   ]
  },
  {
   "cell_type": "code",
   "execution_count": 25,
   "id": "896f921e-31c4-4db2-a354-3bf08317376c",
   "metadata": {},
   "outputs": [
    {
     "name": "stdout",
     "output_type": "stream",
     "text": [
      "   Value Equal_Width_Bins\n",
      "0      1              Low\n",
      "1      3              Low\n",
      "2      5           Medium\n",
      "3      7           Medium\n",
      "4      9             High\n",
      "5     11             High\n"
     ]
    }
   ],
   "source": [
    "import pandas as pd\n",
    "\n",
    "# Example data\n",
    "data = {'Value': [1, 3, 5, 7, 9, 11]}\n",
    "df = pd.DataFrame(data)\n",
    "\n",
    "# Equal width binning\n",
    "df['Equal_Width_Bins'] = pd.cut(df['Value'], bins=3, labels=['Low', 'Medium', 'High'])\n",
    "print(df)\n"
   ]
  },
  {
   "cell_type": "markdown",
   "id": "62d5fc94-96f6-4106-b232-11e3d44c7587",
   "metadata": {},
   "source": [
    "## 2. Equal Frequency Binning\n",
    "- Description: Divides data into 𝑘 bins such that each bin contains approximately the same number of data points.\n",
    "- Use Case: Suitable for skewed distributions where equal-width bins might leave some bins sparsely populated."
   ]
  },
  {
   "cell_type": "code",
   "execution_count": 26,
   "id": "124e2a83-4da6-4113-a45e-b5adae6fac91",
   "metadata": {},
   "outputs": [
    {
     "name": "stdout",
     "output_type": "stream",
     "text": [
      "   Value Equal_Width_Bins Equal_Frequency_Bins\n",
      "0      1              Low                  Low\n",
      "1      3              Low                  Low\n",
      "2      5           Medium               Medium\n",
      "3      7           Medium               Medium\n",
      "4      9             High                 High\n",
      "5     11             High                 High\n"
     ]
    }
   ],
   "source": [
    "# Equal frequency binning\n",
    "df['Equal_Frequency_Bins'] = pd.qcut(df['Value'], q=3, labels=['Low', 'Medium', 'High'])\n",
    "print(df)\n"
   ]
  },
  {
   "cell_type": "markdown",
   "id": "798de4ed-48ff-4284-a040-3e693994c80c",
   "metadata": {},
   "source": [
    "## 3. Clustering-Based Discretization\n",
    "- Description: Uses clustering algorithms (e.g., K-means) to group continuous values into clusters, treating each cluster as a bin.\n",
    "- Use Case: Ideal when data shows natural groupings that are not captured by fixed-width or frequency-based bins."
   ]
  },
  {
   "cell_type": "code",
   "execution_count": null,
   "id": "a54313c5-40d8-4788-a543-77f8f21f360b",
   "metadata": {},
   "outputs": [],
   "source": [
    "from sklearn.cluster import KMeans\n",
    "import numpy as np\n",
    "\n",
    "# Example data\n",
    "values = np.array([[1], [3], [5], [7], [9], [11]])\n",
    "\n",
    "# Apply K-means clustering\n",
    "kmeans = KMeans(n_clusters=3, random_state=0)\n",
    "clusters = kmeans.fit_predict(values)\n",
    "\n",
    "# Add clusters to DataFrame\n",
    "df['Cluster_Bins'] = clusters\n",
    "print(df)\n"
   ]
  },
  {
   "cell_type": "code",
   "execution_count": 29,
   "id": "ffd260bb-c1d7-49fd-89ba-d80f2019fb44",
   "metadata": {},
   "outputs": [
    {
     "data": {
      "image/png": "[encoded data removed]",
      "text/plain": [
       "<IPython.core.display.Image object>"
      ]
     },
     "metadata": {},
     "output_type": "display_data"
    }
   ],
   "source": [
    "from IPython.display import Image, display\n",
    "\n",
    "# Path to your local image file\n",
    "image_path = \"D:\\images\\datatechn.png\"\n",
    "\n",
    "# Display the image\n",
    "display(Image(filename=image_path))\n"
   ]
  },
  {
   "cell_type": "code",
   "execution_count": null,
   "id": "0dbeade8-a249-4ec5-907b-97ca1a277023",
   "metadata": {},
   "outputs": [],
   "source": []
  }
 ],
 "metadata": {
  "kernelspec": {
   "display_name": "Python 3 (ipykernel)",
   "language": "python",
   "name": "python3"
  },
  "language_info": {
   "codemirror_mode": {
    "name": "ipython",
    "version": 3
   },
   "file_extension": ".py",
   "mimetype": "text/x-python",
   "name": "python",
   "nbconvert_exporter": "python",
   "pygments_lexer": "ipython3",
   "version": "3.11.7"
  }
 },
 "nbformat": 4,
 "nbformat_minor": 5
}
